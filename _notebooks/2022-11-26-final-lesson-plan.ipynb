{
 "cells": [
  {
   "cell_type": "markdown",
   "metadata": {},
   "source": [
    "# Application Programming Interface (API)\n",
    "> APIs can be found all over the internet.  A great consolidator of many APIs is\n",
    "\n",
    "- toc: true\n",
    "- layout: post\n",
    "- description: lesson plan\n",
    "- categories: [week-1]\n",
    "- title: Data Abstraction in Python\n",
    "- author: Aditya Ajay Nawandhar\n",
    "- show_tags: true\n",
    "- comments: true"
   ]
  },
  {
   "cell_type": "markdown",
   "metadata": {},
   "source": [
    "# Data Abstraction\n",
    "- Data abstraction provides a separation between the abstract properties of a data type and the concrete details of its representation\n",
    "- data abstractions manage complexity in programs by giving a collection of data a name without refrencing the specific elements of the representation\n",
    "- Data Abstraction makes it easier to implement, develop and maintain code\n",
    "- The use of lists allows for multiple related values to be treated as a single value\n",
    "- In AP exam the index values for lists start rom 1 and not 0 like in python."
   ]
  },
  {
   "cell_type": "markdown",
   "metadata": {},
   "source": [
    "# python\n"
   ]
  },
  {
   "cell_type": "markdown",
   "metadata": {},
   "source": [
    "## Using simple lists and working with variables\n",
    "- Lists are a powerful tool that can be used to organize, maintain and develop related data\n",
    "- For example - A list of students in a class, if there was no list we would assign a variable to each student but if the data was in a list everyone would be under one variable. If a student left the class or was added instead of deleting entire variable we can edit the previous list.\n",
    "- this helps organize data and make less mistakes"
   ]
  },
  {
   "cell_type": "code",
   "execution_count": 1,
   "metadata": {
    "vscode": {
     "languageId": "javascript"
    }
   },
   "outputs": [
    {
     "name": "stdout",
     "output_type": "stream",
     "text": [
      "140505053381696\n",
      "140505053381696\n",
      "['milk', 'pasta', 'eggs', 'spam', 'bread', 'rice']\n",
      "['milk', 'pasta', 'eggs', 'spam', 'bread', 'rice', 'cookies']\n",
      "140505053381696\n",
      "['milk', 'pasta', 'eggs', 'spam', 'bread', 'rice', 'cookies']\n",
      "['milk', 'pasta', 'eggs', 'spam', 'bread', 'rice', 'cookies']\n",
      "Adding cream\n",
      "['milk', 'pasta', 'eggs', 'spam', 'bread', 'rice', 'cookies', 'cream']\n",
      "['milk', 'pasta', 'eggs', 'spam', 'bread', 'rice', 'cookies', 'cream']\n",
      "['milk', 'pasta', 'eggs', 'spam', 'bread', 'rice', 'cookies', 'cream']\n"
     ]
    }
   ],
   "source": [
    "shopping_list = [\"milk\",\n",
    "                 \"pasta\",\n",
    "                 \"eggs\",\n",
    "                 \"spam\",\n",
    "                 \"bread\",\n",
    "                 \"rice\"\n",
    "                 ] # list syntax is \"[]\"\n",
    "another_list = shopping_list\n",
    "print(id(shopping_list)) # each object has a uniques id; the id() function returns this id for the specifies object\n",
    "print(id(another_list)) # As shopping_list is attritibuted to another_list, the id for both are the same as the object in questiom does not change\n",
    "print(another_list)\n",
    "\n",
    "shopping_list += [\"cookies\"] # adding cookies to the list\n",
    "print(shopping_list)\n",
    "print(id(shopping_list)) # the id does not change\n",
    "print(another_list)\n",
    "\n",
    "a = b = c = d = e = f = another_list # it is possibe to atrribute the same object to various variables\n",
    "print(a)\n",
    "\n",
    "print(\"Adding cream\")\n",
    "# .append() is a function which can be used to place new items into old lists \n",
    "b.append(\"cream\") # changes in one of the variables chnges all the lists in other as the object in question is the same.\n",
    "print(a)\n",
    "print(c)\n",
    "print(d)"
   ]
  },
  {
   "cell_type": "markdown",
   "metadata": {},
   "source": [
    "## Breaking lists into more lists\n",
    "- A list of data can be further segregated using more similar characteristics in the data \n",
    "- For example, the code segment below segregates the data given into 2 new lists. One that one contains plants and one that contains only shrubs.\n",
    "- This can be used to also organize data received from API's and other resources."
   ]
  },
  {
   "cell_type": "code",
   "execution_count": 2,
   "metadata": {
    "vscode": {
     "languageId": "javascript"
    }
   },
   "outputs": [
    {
     "name": "stdout",
     "output_type": "stream",
     "text": [
      "Shrubs ['Andromeda - Shrub', 'Hydrangea - Shrub', 'Japanese Camellia - Shrub', 'Lavender - Shrub', 'Lilac - Shrub', 'Magnolia - Shrub', 'Peony - Shrub', 'Witch Hazel - Shrub']\n",
      "Flowers ['Bellflower - Flower', 'China Pink - Flower', 'Daffodil - Flower', 'Evening Primrose - Flower', 'French Marigold - Flower', 'Iris - Flower', \"Queen Anne's Lace - Flower\", 'Red Hot Poker - Flower', 'Snapdragon - Flower', 'Sunflower - Flower', 'Tiger Lily - Flower']\n"
     ]
    }
   ],
   "source": [
    "data = [\n",
    "    \"Andromeda - Shrub\",\n",
    "    \"Bellflower - Flower\",\n",
    "    \"China Pink - Flower\",\n",
    "    \"Daffodil - Flower\",\n",
    "    \"Evening Primrose - Flower\",\n",
    "    \"French Marigold - Flower\",\n",
    "    \"Hydrangea - Shrub\",\n",
    "    \"Iris - Flower\",\n",
    "    \"Japanese Camellia - Shrub\",\n",
    "    \"Lavender - Shrub\",\n",
    "    \"Lilac - Shrub\",\n",
    "    \"Magnolia - Shrub\",\n",
    "    \"Peony - Shrub\",\n",
    "    \"Queen Anne's Lace - Flower\",\n",
    "    \"Red Hot Poker - Flower\",\n",
    "    \"Snapdragon - Flower\",\n",
    "    \"Sunflower - Flower\",\n",
    "    \"Tiger Lily - Flower\",\n",
    "    \"Witch Hazel - Shrub\",\n",
    "]\n",
    "\n",
    "# two empty lists\n",
    "flowers = []\n",
    "shrubs = []\n",
    "\n",
    "for plant in data: # A for loop that goes through each item in the list\n",
    "    if \"Flower\" in plant:\n",
    "        flowers.append(plant) # executed if \"flowers\" is in the item\n",
    "    elif \"Flower\" not in plant:\n",
    "        shrubs.append(plant) # executed if \"shrubs\" is in the item\n",
    "print(\"Shrubs {}\".format(shrubs)) # The format() method formats the specified value(s) and insert them inside the string's placeholder. The placeholder is defined using curly brackets: {}\n",
    "print(\"Flowers {}\".format(flowers))"
   ]
  },
  {
   "cell_type": "markdown",
   "metadata": {},
   "source": [
    "## Organising diffrent items in the lists\n",
    "- individual elements can be called, seprated and organised using for loops"
   ]
  },
  {
   "cell_type": "code",
   "execution_count": 3,
   "metadata": {
    "vscode": {
     "languageId": "javascript"
    }
   },
   "outputs": [
    {
     "name": "stdout",
     "output_type": "stream",
     "text": [
      "5\n",
      "Album: Welcome to my nightmare, Artist: Alice cooper, year: 1975\n",
      "Album: Bad Company, Artist: Bad Company, year: 1974\n",
      "Album: Nightflight, Artist: Budgie, year: 1981\n",
      "Album: More Mayhem, Artist: Emilda May, year: 2011\n",
      "Album: Ride the Lightning, Artist: Metallica, year: 1984\n"
     ]
    }
   ],
   "source": [
    "albums = [(\"Welcome to my nightmare\", \"Alice cooper\", 1975),\n",
    "          (\"Bad Company\", \"Bad Company\", 1974),\n",
    "          (\"Nightflight\", \"Budgie\", 1981),\n",
    "          (\"More Mayhem\", \"Emilda May\", 2011),\n",
    "          (\"Ride the Lightning\", \"Metallica\", 1984),\n",
    "          ]\n",
    "print(len(albums)) # number of items in the list\n",
    "\n",
    "for name, artist, year in albums: \n",
    "    print(\"Album: {}, Artist: {}, year: {}\"\n",
    "          .format(name, artist, year)) #returns a segregated and labled presentation of the songs"
   ]
  },
  {
   "cell_type": "markdown",
   "metadata": {},
   "source": [
    "## Splitting and joining lists and data inside them\n",
    "- The split() method splits a string into a list. You can specify the separator, default separator is any whitespace.\n",
    "- The join() method takes all items in an iterable and joins them into one string. A string must be specified as the separator.\n"
   ]
  },
  {
   "cell_type": "code",
   "execution_count": 4,
   "metadata": {},
   "outputs": [
    {
     "name": "stdout",
     "output_type": "stream",
     "text": [
      "['the', 'quick', 'brown', 'fox', 'jumps', 'over', 'the', 'lazy', 'dog']\n",
      "['9', '223', '372', '036', '854', '775', '807']\n",
      "9 223 372 036 854 775 807 \n",
      "['9', '223', '372', '036', '854', '775', '807']\n"
     ]
    }
   ],
   "source": [
    "panagram = \"\"\"the quick brown\n",
    "fox jumps\\tover \n",
    "the lazy dog\"\"\"\n",
    "\n",
    "words = panagram.split() # splitting the string above into individual words. Separator here is any whitespace.\n",
    "print(words)\n",
    "\n",
    "numbers = \"9,223,372,036,854,775,807\"\n",
    "print(numbers.split(\",\")) # separator is \",\"\n",
    "\n",
    "generated_list = ['9', ' ',\n",
    "                  '2', '2', '3', ' ',\n",
    "                  '3', '7', '2', ' ',\n",
    "                  '0', '3', '6', ' ',\n",
    "                  '8', '5', '4', ' ',\n",
    "                  '7', '7', '5', ' ',\n",
    "                  '8', '0', '7', ' ',\n",
    "                  ]\n",
    "values = \"\".join(generated_list) # converting the list into a string\n",
    "print(values)\n",
    "\n",
    "values_list = values.split() # separator is any whitespace\n",
    "print(values_list)"
   ]
  }
 ],
 "metadata": {
  "kernelspec": {
   "display_name": "Python 3.8.10 64-bit",
   "language": "python",
   "name": "python3"
  },
  "language_info": {
   "codemirror_mode": {
    "name": "ipython",
    "version": 3
   },
   "file_extension": ".py",
   "mimetype": "text/x-python",
   "name": "python",
   "nbconvert_exporter": "python",
   "pygments_lexer": "ipython3",
   "version": "3.8.10"
  },
  "orig_nbformat": 4,
  "vscode": {
   "interpreter": {
    "hash": "916dbcbb3f70747c44a77c7bcd40155683ae19c65e1c03b4aa3499c5328201f1"
   }
  }
 },
 "nbformat": 4,
 "nbformat_minor": 2
}
