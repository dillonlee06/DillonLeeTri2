{
 "cells": [
  {
   "cell_type": "markdown",
   "metadata": {},
   "source": [
    "# Data Abstraction JS\n",
    "- toc: true\n",
    "- layout: post\n",
    "- description: lesson plan\n",
    "- categories: [week-1]\n",
    "- author: Rohan Agarwal\n",
    "- show_tags: true\n",
    "- comments: true"
   ]
  },
  {
   "cell_type": "markdown",
   "metadata": {},
   "source": [
    "- In the following code segment we will:\n",
    "- declare a function \n",
    "- input and store data\n",
    "- display it"
   ]
  },
  {
   "cell_type": "code",
   "execution_count": 9,
   "metadata": {},
   "outputs": [
    {
     "name": "stdout",
     "output_type": "stream",
     "text": [
      "object ; Player {\n",
      "  name: 'Bob Melvin',\n",
      "  position: 'Catcher',\n",
      "  average: '.233',\n",
      "  role: '' }\n",
      "string ; {\"name\":\"Bob Melvin\",\"position\":\"Catcher\",\"average\":\".233\",\"role\":\"\"}\n",
      "object ; Player {\n",
      "  name: 'Bob Melvin',\n",
      "  position: 'Catcher',\n",
      "  average: '.233',\n",
      "  role: 'Manager' }\n",
      "string ; {\"name\":\"Bob Melvin\",\"position\":\"Catcher\",\"average\":\".233\",\"role\":\"Manager\"}\n"
     ]
    }
   ],
   "source": [
    "function Player(name, position, average) { // make a function \n",
    "    this.name = name; // different categories\n",
    "    this.position = position;\n",
    "    this.average = average;\n",
    "    this.role = \"\";\n",
    "}\n",
    "\n",
    "Player.prototype.setRole = function(role) { // whatever input we put into roles, it will be stored.\n",
    "    this.role = role;\n",
    "}\n",
    "\n",
    "Player.prototype.toJSON = function() {\n",
    "    const obj = {name: this.name, position: this.position, average: this.average, role: this.role};\n",
    "    const json = JSON.stringify(obj);\n",
    "    return json;\n",
    "}\n",
    "\n",
    "var manager = new Player(\"Bob Melvin\", \"Catcher\", \".233\"); // new player, including all the categories\n",
    "LogItType(manager);\n",
    "LogItType(manager.toJSON());\n",
    "\n",
    "manager.setRole(\"Manager\");\n",
    "LogItType(manager);\n",
    "LogItType(manager.toJSON());"
   ]
  },
  {
   "cell_type": "markdown",
   "metadata": {},
   "source": [
    "- In this segment we are going to make a list of players with their names, position, and average\n",
    "- recall those three data categories from the previous management\n",
    "- we are then going to make a function which stores it in JSON\n",
    "- then we display "
   ]
  },
  {
   "cell_type": "code",
   "execution_count": 24,
   "metadata": {},
   "outputs": [
    {
     "name": "stdout",
     "output_type": "stream",
     "text": [
      "object ; [ Player {\n",
      "    name: 'Bob Melvin',\n",
      "    position: 'Catcher',\n",
      "    average: '.233',\n",
      "    role: 'Manager' },\n",
      "  Player {\n",
      "    name: 'Manny Machado',\n",
      "    position: 'Third Base',\n",
      "    average: '.299',\n",
      "    role: 'Player' },\n",
      "  Player {\n",
      "    name: 'Trent Grisham',\n",
      "    position: 'Center Field',\n",
      "    average: '.185',\n",
      "    role: 'Player' },\n",
      "  Player {\n",
      "    name: 'Jake Cronenworth',\n",
      "    position: 'Second Base',\n",
      "    average: '.238',\n",
      "    role: 'Player' },\n",
      "  Player {\n",
      "    name: 'Jurickson Profar',\n",
      "    position: 'Left Field',\n",
      "    average: '.240',\n",
      "    role: 'Player' },\n",
      "  Player {\n",
      "    name: 'Ha-Seong Kim',\n",
      "    position: 'Shortstop',\n",
      "    average: '.252',\n",
      "    role: 'Player' },\n",
      "  Player {\n",
      "    name: 'Brandon Drury',\n",
      "    position: 'First Base',\n",
      "    average: '.226',\n",
      "    role: 'Player' },\n",
      "  Player {\n",
      "    name: 'Jorge Alfaro',\n",
      "    position: 'Catcher',\n",
      "    average: '.249',\n",
      "    role: 'Player' },\n",
      "  Player {\n",
      "    name: 'Wil Myers',\n",
      "    position: 'Right Field, First Base',\n",
      "    average: '.255',\n",
      "    role: 'Player' },\n",
      "  Player {\n",
      "    name: 'Juan Soto',\n",
      "    position: 'Right Field',\n",
      "    average: '.242',\n",
      "    role: 'Player' },\n",
      "  Player {\n",
      "    name: 'Austin Nola',\n",
      "    position: 'Catcher',\n",
      "    average: '.248',\n",
      "    role: 'Player' },\n",
      "  Player {\n",
      "    name: 'Josh Bell',\n",
      "    position: 'Designated Hitter, First Base',\n",
      "    average: '.191',\n",
      "    role: 'Player' },\n",
      "  Player {\n",
      "    name: 'Jose Azocar',\n",
      "    position: 'Outfield',\n",
      "    average: '.272',\n",
      "    role: 'Player' } ]\n",
      "string ; Bob Melvin\n",
      "string ; {\"name\":\"Bob Melvin\",\"position\":\"Catcher\",\"average\":\".233\",\"role\":\"Manager\"}\n",
      "object ; { name: 'Bob Melvin',\n",
      "  position: 'Catcher',\n",
      "  average: '.233',\n",
      "  role: 'Manager' }\n"
     ]
    }
   ],
   "source": [
    "var players = [ // make a list, storing all the categories we had in the previous code segment. \n",
    "    new Player(\"Manny Machado\", \"Third Base\", \".299\"),\n",
    "    new Player(\"Trent Grisham\", \"Center Field\", \".185\"),\n",
    "    new Player(\"Jake Cronenworth\", \"Second Base\", \".238\"),\n",
    "    new Player(\"Jurickson Profar\", \"Left Field\", \".240\"),\n",
    "    new Player(\"Ha-Seong Kim\", \"Shortstop\", \".252\"),\n",
    "    new Player(\"Brandon Drury\", \"First Base\", \".226\"),\n",
    "    new Player(\"Jorge Alfaro\", \"Catcher\", \".249\"),\n",
    "    new Player(\"Wil Myers\", \"Right Field, First Base\", \".255\"),\n",
    "    new Player(\"Juan Soto\", \"Right Field\", \".242\"),\n",
    "    new Player(\"Austin Nola\", \"Catcher\", \".248\"),\n",
    "    new Player(\"Josh Bell\", \"Designated Hitter, First Base\", \".191\"),\n",
    "    new Player(\"Jose Azocar\", \"Outfield\", \".272\"), \n",
    "];\n",
    "\n",
    "function Padres(manager, players){ // new function in order to store the data\n",
    "\n",
    "    manager.setRole(\"Manager\");\n",
    "    this.manager = manager;\n",
    "    this.padres = [manager];\n",
    "    \n",
    "    this.players = players;\n",
    "    this.players.forEach(player => { player.setRole(\"Player\"); this.padres.push(player); });\n",
    "\n",
    "    this.json = [];\n",
    "    this.padres.forEach(player => this.json.push(player.toJSON()));\n",
    "}\n",
    "\n",
    "sd2022 = new Padres(manager, players); // this is how we will display it. \n",
    "\n",
    "LogItType(sd2022.padres);\n",
    "LogItType(sd2022.padres[0].name);\n",
    "LogItType(sd2022.json[0]);\n",
    "LogItType(JSON.parse(sd2022.json[0]));\n"
   ]
  },
  {
   "cell_type": "markdown",
   "metadata": {},
   "source": [
    "- in this segment we are going to display the data which we created / stored in the previous segment\n",
    "- html table format."
   ]
  },
  {
   "cell_type": "code",
   "execution_count": 25,
   "metadata": {},
   "outputs": [
    {
     "data": {
      "text/html": [
       "<div style='display:inline-block;border: 2px solid grey;box-shadow: 0.8em 0.4em 0.4em grey;'><table><tr><th><mark>Name</mark></th><th><mark>Position</mark></th><th><mark>Batting Average</mark></th><th><mark>Role</mark></th></tr><tr><td>Bob Melvin</td><td>Catcher</td><td>.233</td><td>Manager</td><tr><tr><td>Manny Machado</td><td>Third Base</td><td>.299</td><td>Player</td><tr><tr><td>Trent Grisham</td><td>Center Field</td><td>.185</td><td>Player</td><tr><tr><td>Jake Cronenworth</td><td>Second Base</td><td>.238</td><td>Player</td><tr><tr><td>Jurickson Profar</td><td>Left Field</td><td>.240</td><td>Player</td><tr><tr><td>Ha-Seong Kim</td><td>Shortstop</td><td>.252</td><td>Player</td><tr><tr><td>Brandon Drury</td><td>First Base</td><td>.226</td><td>Player</td><tr><tr><td>Jorge Alfaro</td><td>Catcher</td><td>.249</td><td>Player</td><tr><tr><td>Wil Myers</td><td>Right Field, First Base</td><td>.255</td><td>Player</td><tr><tr><td>Juan Soto</td><td>Right Field</td><td>.242</td><td>Player</td><tr><tr><td>Austin Nola</td><td>Catcher</td><td>.248</td><td>Player</td><tr><tr><td>Josh Bell</td><td>Designated Hitter, First Base</td><td>.191</td><td>Player</td><tr><tr><td>Jose Azocar</td><td>Outfield</td><td>.272</td><td>Player</td><tr></table></div>"
      ]
     },
     "execution_count": 25,
     "metadata": {},
     "output_type": "execute_result"
    }
   ],
   "source": [
    "Padres.prototype._toHtml = function() { // display data in a table\n",
    "    var style = (\n",
    "        \"display:inline-block;\" +\n",
    "        \"border: 2px solid grey;\" +\n",
    "        \"box-shadow: 0.8em 0.4em 0.4em grey;\"\n",
    "    );\n",
    "    // set up the table\n",
    "\n",
    "    var body = \"\";\n",
    "    body += \"<tr>\";\n",
    "    body += \"<th><mark>\" + \"Name\" + \"</mark></th>\";\n",
    "    body += \"<th><mark>\" + \"Position\" + \"</mark></th>\";\n",
    "    body += \"<th><mark>\" + \"Batting Average\" + \"</mark></th>\";\n",
    "    body += \"<th><mark>\" + \"Role\" + \"</mark></th>\";\n",
    "    body += \"</tr>\";\n",
    "    \n",
    "      // include the data in the table according to categories. \n",
    "\n",
    "    for (var row of sd2022.padres) {\n",
    "        \n",
    "        body += \"<tr>\";\n",
    "        \n",
    "        body += \"<td>\" + row.name + \"</td>\";\n",
    "        body += \"<td>\" + row.position + \"</td>\";\n",
    "        body += \"<td>\" + row.average + \"</td>\";\n",
    "        body += \"<td>\" + row.role + \"</td>\";\n",
    "        \n",
    "        body += \"<tr>\";\n",
    "      }\n",
    "    \n",
    "       // html format\n",
    "      return (\n",
    "        \"<div style='\" + style + \"'>\" +\n",
    "          \"<table>\" +\n",
    "            body +\n",
    "          \"</table>\" +\n",
    "        \"</div>\"\n",
    "      );\n",
    "    \n",
    "    };\n",
    "    \n",
    "    \n",
    "    $$.html(sd2022._toHtml());\n"
   ]
  }
 ],
 "metadata": {
  "kernelspec": {
   "display_name": "JavaScript (Node.js)",
   "language": "javascript",
   "name": "javascript"
  },
  "language_info": {
   "file_extension": ".js",
   "mimetype": "application/javascript",
   "name": "javascript",
   "version": "6.11.2"
  },
  "orig_nbformat": 4,
  "vscode": {
   "interpreter": {
    "hash": "916dbcbb3f70747c44a77c7bcd40155683ae19c65e1c03b4aa3499c5328201f1"
   }
  }
 },
 "nbformat": 4,
 "nbformat_minor": 2
}
